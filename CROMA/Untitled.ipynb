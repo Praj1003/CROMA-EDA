{
 "cells": [
  {
   "cell_type": "code",
   "execution_count": 1,
   "id": "19c132e6-9c73-4b78-a4f1-b61e8ff0c70a",
   "metadata": {},
   "outputs": [],
   "source": [
    "import pandas as pd"
   ]
  },
  {
   "cell_type": "code",
   "execution_count": 3,
   "id": "e99ae3f8-3774-4e3f-9770-a904124f933d",
   "metadata": {},
   "outputs": [],
   "source": [
    "df = pd.read_csv(\"Customer_Transaction_Data.csv\")"
   ]
  },
  {
   "cell_type": "code",
   "execution_count": null,
   "id": "f3c4678b-8f2d-4a0b-82f1-4a9a15c15a61",
   "metadata": {},
   "outputs": [],
   "source": [
    "df.sample()"
   ]
  },
  {
   "cell_type": "code",
   "execution_count": null,
   "id": "489722f9-8d18-4d2f-9022-46ae299827fe",
   "metadata": {},
   "outputs": [],
   "source": []
  }
 ],
 "metadata": {
  "kernelspec": {
   "display_name": "Python 3 (ipykernel)",
   "language": "python",
   "name": "python3"
  },
  "language_info": {
   "codemirror_mode": {
    "name": "ipython",
    "version": 3
   },
   "file_extension": ".py",
   "mimetype": "text/x-python",
   "name": "python",
   "nbconvert_exporter": "python",
   "pygments_lexer": "ipython3",
   "version": "3.11.7"
  }
 },
 "nbformat": 4,
 "nbformat_minor": 5
}
